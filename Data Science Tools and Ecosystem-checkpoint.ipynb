{
 "cells": [
  {
   "cell_type": "markdown",
   "id": "e420a1dd",
   "metadata": {},
   "source": [
    "# Data Science Tools and Ecosystem"
   ]
  },
  {
   "cell_type": "markdown",
   "id": "345d05eb",
   "metadata": {},
   "source": [
    "In this notebook, Data Science Tools and Ecosystem are summarized."
   ]
  },
  {
   "cell_type": "markdown",
   "id": "03512717",
   "metadata": {},
   "source": [
    "Some of the popular languages that Data Scientists use are:\n",
    "Python \n",
    "R\n",
    "Julia\n",
    "SQL\n",
    "Scala\n",
    "Java\n",
    "Matlab"
   ]
  },
  {
   "cell_type": "markdown",
   "id": "68527d5a",
   "metadata": {},
   "source": [
    "| Tool          | Description                                      | Website                                      |\n",
    "|---------------|--------------------------------------------------|----------------------------------------------|\n",
    "| Python        | General-purpose programming language             | [python.org](https://www.python.org/)       |\n",
    "| R             | Statistical computing and graphics               | [r-project.org](https://www.r-project.org/) |\n",
    "| Jupyter       | Interactive notebooks for data science           | [jupyter.org](https://jupyter.org/)         |\n",
    "| Pandas        | Data manipulation library for Python             | [pandas.pydata.org](https://pandas.pydata.org/) |\n",
    "| NumPy         | Numerical computing library for Python           | [numpy.org](https://numpy.org/)             |\n",
    "| Scikit-learn  | Machine learning library for Python              | [scikit-learn.org](https://scikit-learn.org/) |\n",
    "| TensorFlow    | Deep learning framework by Google                | [tensorflow.org](https://www.tensorflow.org/) |\n",
    "| PyTorch       | Deep learning framework by Facebook              | [pytorch.org](https://pytorch.org/)         |\n",
    "| Matplotlib    | Data visualization library for Python            | [matplotlib.org](https://matplotlib.org/)   |\n",
    "| Seaborn       | Statistical data visualization library for Python| [seaborn.pydata.org](https://seaborn.pydata.org/) |\n",
    "| ggplot2       | Data visualization package for R                 | [ggplot2.tidyverse.org](https://ggplot2.tidyverse.org/) |\n",
    "| D3.js         | JavaScript library for interactive data visualization | [d3js.org](https://d3js.org/)          |\n",
    "| Tableau       | Data visualization and analytics tool           | [tableau.com](https://www.tableau.com/)    |\n",
    "| KNIME         | Open-source data analytics platform             | [knime.com](https://www.knime.com/)         |\n",
    "| Apache Spark  | Distributed computing framework                  | [spark.apache.org](https://spark.apache.org/) |\n"
   ]
  },
  {
   "cell_type": "code",
   "execution_count": 5,
   "id": "940eec30",
   "metadata": {},
   "outputs": [
    {
     "data": {
      "text/plain": [
       "17"
      ]
     },
     "execution_count": 5,
     "metadata": {},
     "output_type": "execute_result"
    }
   ],
   "source": [
    "(3*4)+5"
   ]
  },
  {
   "cell_type": "code",
   "execution_count": 10,
   "id": "241eddfd",
   "metadata": {},
   "outputs": [
    {
     "name": "stdout",
     "output_type": "stream",
     "text": [
      "3 hour and 20 min\n"
     ]
    }
   ],
   "source": [
    "x=200\n",
    "minuts=x%60\n",
    "hours=int(200/60)\n",
    "\n",
    "print(f\"{hours} hour and {minuts} min\")"
   ]
  },
  {
   "cell_type": "markdown",
   "id": "97ac6b9f",
   "metadata": {},
   "source": [
    "**Objectives:**\n",
    "\n",
    "- List popular languages for Data Science.\n",
    "- Introduce common Data Science libraries.\n",
    "- Discuss key concepts in Data Science.\n"
   ]
  },
  {
   "cell_type": "markdown",
   "id": "a3d9e4b4",
   "metadata": {},
   "source": [
    "## Author\n",
    "NAJIB ISMAIL\n"
   ]
  },
  {
   "cell_type": "code",
   "execution_count": null,
   "id": "d6ff9ec5",
   "metadata": {},
   "outputs": [],
   "source": []
  }
 ],
 "metadata": {
  "kernelspec": {
   "display_name": "Python 3 (ipykernel)",
   "language": "python",
   "name": "python3"
  },
  "language_info": {
   "codemirror_mode": {
    "name": "ipython",
    "version": 3
   },
   "file_extension": ".py",
   "mimetype": "text/x-python",
   "name": "python",
   "nbconvert_exporter": "python",
   "pygments_lexer": "ipython3",
   "version": "3.11.5"
  }
 },
 "nbformat": 4,
 "nbformat_minor": 5
}
